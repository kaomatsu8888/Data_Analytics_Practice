{
 "cells": [
  {
   "cell_type": "code",
   "execution_count": 16,
   "metadata": {},
   "outputs": [
    {
     "data": {
      "text/plain": [
       "<janome.tokenizer.Tokenizer at 0x18ef12542e0>"
      ]
     },
     "execution_count": 16,
     "metadata": {},
     "output_type": "execute_result"
    }
   ],
   "source": [
    "from janome.tokenizer import Tokenizer\n",
    "\n",
    "t = Tokenizer()\n",
    "t"
   ]
  },
  {
   "cell_type": "code",
   "execution_count": 17,
   "metadata": {},
   "outputs": [
    {
     "name": "stdout",
     "output_type": "stream",
     "text": [
      "9\n",
      "東京\t名詞,固有名詞,地域,一般,*,*,東京,トウキョウ,トーキョー\n",
      "都\t名詞,接尾,地域,*,*,*,都,ト,ト\n",
      "で\t助詞,格助詞,一般,*,*,*,で,デ,デ\n",
      "おいしい\t形容詞,自立,*,*,形容詞・イ段,基本形,おいしい,オイシイ,オイシイ\n",
      "ビール\t名詞,一般,*,*,*,*,ビール,ビール,ビール\n",
      "を\t助詞,格助詞,一般,*,*,*,を,ヲ,ヲ\n",
      "飲も\t動詞,自立,*,*,五段・マ行,未然ウ接続,飲む,ノモ,ノモ\n",
      "う\t助動詞,*,*,*,不変化型,基本形,う,ウ,ウ\n",
      "。\t記号,句点,*,*,*,*,。,。,。\n"
     ]
    }
   ],
   "source": [
    "text = '東京都でおいしいビールを飲もう。'\n",
    "# トークンをジェネレータからリストへ変換\n",
    "tokens = list(t.tokenize(text))\n",
    "\n",
    "# リストの長さを取得\n",
    "print(len(tokens))\n",
    "\n",
    "# トークンを出力してみる\n",
    "for token in tokens:\n",
    "    print(token)"
   ]
  },
  {
   "cell_type": "code",
   "execution_count": 19,
   "metadata": {},
   "outputs": [
    {
     "name": "stdout",
     "output_type": "stream",
     "text": [
      "['東京', '都', 'で', 'おいしい', 'ビール', 'を', '飲も', 'う', '。']\n"
     ]
    }
   ],
   "source": [
    "from janome.tokenizer import Tokenizer\n",
    "\n",
    "# Tokenizerのインスタンス化\n",
    "t = Tokenizer()\n",
    "\n",
    "text = '東京都でおいしいビールを飲もう。'\n",
    "\n",
    "# 分かち書きされた単語をジェネレータとして取得\n",
    "wakati_generator = t.tokenize(text, wakati=True)\n",
    "\n",
    "# ジェネレータをリストに変換\n",
    "wakati_words = list(wakati_generator)\n",
    "\n",
    "# 結果を表示\n",
    "print(wakati_words)"
   ]
  },
  {
   "cell_type": "code",
   "execution_count": 23,
   "metadata": {},
   "outputs": [
    {
     "name": "stdout",
     "output_type": "stream",
     "text": [
      "[['おいしい', 'ビール', 'を', '飲む'], ['コーヒー', 'を', '飲む'], ['おいしい', 'クラフト', 'ビール', 'を', '買う']]\n"
     ]
    }
   ],
   "source": [
    "from janome.tokenizer import Tokenizer\n",
    "\n",
    "t = Tokenizer()\n",
    "sentences = ['おいしいビールを飲む', 'コーヒーを飲む', 'おいしいクラフトビールを買う']\n",
    "\n",
    "word_list = []\n",
    "for sentence in sentences:\n",
    "    # ジェネレータをリストに変換して追加\n",
    "    words = list(t.tokenize(sentence, wakati=True))\n",
    "    word_list.append(words)\n",
    "\n",
    "print(word_list)\n"
   ]
  },
  {
   "cell_type": "code",
   "execution_count": 24,
   "metadata": {},
   "outputs": [
    {
     "name": "stdout",
     "output_type": "stream",
     "text": [
      "['おいしい', 'ビール', 'を', '飲む', 'コーヒー', 'クラフト', '買う']\n"
     ]
    }
   ],
   "source": [
    "unique_words = []\n",
    "for words in word_list:\n",
    "    for word in words:\n",
    "        if word not in unique_words:\n",
    "            unique_words.append(word)\n",
    "\n",
    "print(unique_words)"
   ]
  },
  {
   "cell_type": "code",
   "execution_count": 25,
   "metadata": {},
   "outputs": [
    {
     "name": "stdout",
     "output_type": "stream",
     "text": [
      "[[1, 1, 1, 1, 0, 0, 0], [0, 0, 1, 1, 1, 0, 0], [1, 1, 1, 0, 0, 1, 1]]\n"
     ]
    }
   ],
   "source": [
    "bow_list = []\n",
    "for words in word_list:\n",
    "    bow = []\n",
    "    for unique_word in unique_words:\n",
    "        bow.append(words.count(unique_word))\n",
    "    bow_list.append(bow)\n",
    "\n",
    "print(bow_list)"
   ]
  },
  {
   "cell_type": "code",
   "execution_count": 26,
   "metadata": {},
   "outputs": [
    {
     "name": "stdout",
     "output_type": "stream",
     "text": [
      "[1.2876820724517808, 1.2876820724517808, 1.0, 1.2876820724517808, 1.6931471805599454, 1.6931471805599454, 1.6931471805599454]\n"
     ]
    }
   ],
   "source": [
    "from math import log\n",
    "num_of_sentences = len(sentences)\n",
    "idf = []\n",
    "for i in range(len(unique_words)):\n",
    "    count = 0\n",
    "    for words in word_list:\n",
    "        if unique_words[i] in words:\n",
    "            count += 1\n",
    "    idf.append(log((num_of_sentences + 1) / (count + 1)) + 1)\n",
    "\n",
    "print(idf)"
   ]
  },
  {
   "cell_type": "code",
   "execution_count": 27,
   "metadata": {},
   "outputs": [
    {
     "name": "stdout",
     "output_type": "stream",
     "text": [
      "[0.0, 0.0, 0.3333333333333333, 0.42922735748392693, 0.5643823935199818, 0.0, 0.0]\n"
     ]
    }
   ],
   "source": [
    "bow = bow_list[1]\n",
    "num_of_sentences = sum(bow)\n",
    "tfidf = []\n",
    "for i in range(len(bow)):\n",
    "    tfidf.append(bow[i] * idf[i] / num_of_sentences)\n",
    "\n",
    "print(tfidf)\n"
   ]
  },
  {
   "cell_type": "code",
   "execution_count": 28,
   "metadata": {},
   "outputs": [],
   "source": [
    "# 天気予報の各状態を表すデータ\n",
    "weather_data = {\n",
    "    '晴れ': {\n",
    "        'next_weather_types': ['晴れ', '曇り', '雨'],  # 遷移先の天気のリスト\n",
    "        'weights': [0.6, 0.3, 0.1],  # それぞれの天気に遷移する割合（重み）\n",
    "    },\n",
    "    '曇り': {'next_weather_types': ['晴れ', '曇り', '雨'], 'weights': [0.3, 0.5, 0.2]},\n",
    "    '雨': {'next_weather_types': ['晴れ', '曇り', '雨'], 'weights': [0.2, 0.3, 0.5]},\n",
    "}"
   ]
  },
  {
   "cell_type": "code",
   "execution_count": 29,
   "metadata": {},
   "outputs": [
    {
     "name": "stdout",
     "output_type": "stream",
     "text": [
      "{'晴れ': 605, '曇り': 299, '雨': 96}\n"
     ]
    }
   ],
   "source": [
    "# 状態を表すデータから「晴れ」の次の天気を重みありでランダムに取り出す\n",
    "import random\n",
    "\n",
    "next_weather_types = weather_data['晴れ']['next_weather_types']\n",
    "weights = weather_data['晴れ']['weights']\n",
    "\n",
    "count = {'晴れ': 0, '曇り': 0, '雨': 0}\n",
    "for i in range(1000):  # 重みづけを確認するために1000回天気を取り出す\n",
    "    weather = random.choices(next_weather_types, weights=weights)[0]  # リストで返るので先頭を取り出す\n",
    "    count[weather] += 1  # 出現回数を数える\n",
    "print(count)"
   ]
  },
  {
   "cell_type": "code",
   "execution_count": 33,
   "metadata": {},
   "outputs": [
    {
     "data": {
      "text/plain": [
       "['晴れ', '晴れ', '雨', '晴れ', '晴れ', '晴れ', '晴れ', '晴れ', '雨', '雨', '雨']"
      ]
     },
     "execution_count": 33,
     "metadata": {},
     "output_type": "execute_result"
    }
   ],
   "source": [
    "# 天気のマルコフ連鎖を生成する\n",
    "\n",
    "current_weather = '晴れ'\n",
    "markov_weather_list = [current_weather]  # 天気のリストを格納する領域\n",
    "for i in range(10):\n",
    "    next_weather_types = weather_data[current_weather]['next_weather_types']  # 次の状態（天気）と重みを取得\n",
    "    weights = weather_data[current_weather]['weights']\n",
    "    current_weather = random.choices(next_weather_types, weights=weights)[0]  # 次の状態（天気）をランダムに取得\n",
    "    markov_weather_list.append(current_weather)  # 天気を追加\n",
    "markov_weather_list"
   ]
  }
 ],
 "metadata": {
  "kernelspec": {
   "display_name": ".venv",
   "language": "python",
   "name": "python3"
  },
  "language_info": {
   "codemirror_mode": {
    "name": "ipython",
    "version": 3
   },
   "file_extension": ".py",
   "mimetype": "text/x-python",
   "name": "python",
   "nbconvert_exporter": "python",
   "pygments_lexer": "ipython3",
   "version": "3.10.4"
  }
 },
 "nbformat": 4,
 "nbformat_minor": 2
}
